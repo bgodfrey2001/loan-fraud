{
 "cells": [
  {
   "cell_type": "code",
   "execution_count": 1,
   "id": "7539aaa6",
   "metadata": {},
   "outputs": [],
   "source": [
    "import pandas as pd\n",
    "#import numpy as np\n",
    "import matplotlib.pyplot as plt\n",
    "#import seaborn as sns\n",
    "import pickle\n",
    "from ipywidgets import interactive\n",
    "import ipywidgets as widget"
   ]
  },
  {
   "cell_type": "code",
   "execution_count": 2,
   "id": "8299e7a0",
   "metadata": {},
   "outputs": [
    {
     "name": "stderr",
     "output_type": "stream",
     "text": [
      "Enabling notebook extension jupyter-js-widgets/extension...\n",
      "      - Validating: ok\n",
      "Enabling: voila\n",
      "- Writing config: c:\\users\\bgodf\\onedrive\\desktop\\loan-fraud\\env\\etc\\jupyter\n",
      "    - Validating...\n",
      "      voila 0.3.4 ok\n"
     ]
    }
   ],
   "source": [
    "!jupyter nbextension enable --py widgetsnbextension --sys-prefix\n",
    "!jupyter serverextension enable voila --sys-prefix"
   ]
  },
  {
   "cell_type": "code",
   "execution_count": 3,
   "id": "dcbaf385",
   "metadata": {},
   "outputs": [],
   "source": [
    "#Converts the type from object into a category type.\n",
    "def loan_categories(loans):\n",
    "    for label, content in loans.items():\n",
    "        if pd.api.types.is_string_dtype(content):\n",
    "            loans[label] = content.astype('category').cat.as_ordered() \n",
    "    #This will change the data type from categorical into a number.\n",
    "    for label, content in loans.items():\n",
    "        if pd.api.types.is_categorical_dtype(content):\n",
    "            loans[label] = pd.Categorical(content).codes\n",
    "    return loans"
   ]
  },
  {
   "cell_type": "code",
   "execution_count": 4,
   "id": "c42bb67d",
   "metadata": {},
   "outputs": [],
   "source": [
    "model = pickle.load(open('Data/loan-fraud.pkl', 'rb'))"
   ]
  },
  {
   "cell_type": "code",
   "execution_count": 5,
   "id": "6aa70c30",
   "metadata": {},
   "outputs": [],
   "source": [
    "from IPython.display import display\n",
    "\n",
    "#Creates a bar chart to show the probability of the transaction being fraud or not\n",
    "def bar_chart(prob):\n",
    "    probabilities = {'Not Fraud': prob[0],\n",
    "                    'Fraud': prob[1]}\n",
    "    fig, ax = plt.subplots()\n",
    "    ax.set_title('Probability of Fraud')\n",
    "    ax.set_ylabel('Percent Probability')\n",
    "    ax.bar(probabilities.keys(), probabilities.values(), width=.5);\n",
    "\n",
    "\n",
    "   \n",
    "\n",
    "#Takes the values from the widgets and displays the prediction of fraud and the bar chart of the likelihood\n",
    "def prediction_function(step, typeTransaction, amount, oldBalance, newBalance, oldBalanceDest, newBalanceDest):\n",
    "    data = [[step, typeTransaction, amount, oldBalance, newBalance, oldBalanceDest, newBalanceDest]]\n",
    "    features = pd.DataFrame(data, columns=['step', 'type', 'amount', 'oldbalanceOrg', 'newbalanceOrig', \n",
    "                                           'oldbalanceDest', 'newbalanceDest'])\n",
    "    features = loan_categories(features)\n",
    "    yPreds = model.predict(features)\n",
    "    probability = model.predict_proba(features)\n",
    "    \n",
    "    probability = probability * 100  \n",
    "    bar_chart(probability[0])\n",
    "\n",
    "    displayText = ''\n",
    "    if yPreds[0] == 1:\n",
    "        displayText = 'Fraud Likely'\n",
    "    else:\n",
    "        displayText = 'Fraud Unlikely'\n",
    "    print(displayText)"
   ]
  },
  {
   "cell_type": "code",
   "execution_count": 6,
   "id": "49c9bf4c",
   "metadata": {
    "scrolled": true
   },
   "outputs": [
    {
     "data": {
      "application/vnd.jupyter.widget-view+json": {
       "model_id": "e9b0b90f20694e4abd0a1206dc90082b",
       "version_major": 2,
       "version_minor": 0
      },
      "text/plain": [
       "interactive(children=(IntText(value=1, description='Steps in hours:', style=DescriptionStyle(description_width…"
      ]
     },
     "metadata": {},
     "output_type": "display_data"
    }
   ],
   "source": [
    "dropdownOptions = ['CASH-IN', 'CASH-OUT', 'DEBIT', 'PAYMENT', 'TRANSFER']\n",
    "style = {'description_width': 'initial'}\n",
    "dis = interactive(prediction_function,\n",
    "      step = widget.IntText(value=1,description='Steps in hours:', style=style),\n",
    "      typeTransaction = widget.Dropdown(options=dropdownOptions, description='Type of Transaction', style=style), \n",
    "      amount = widget.FloatText(value = 0.0,description='Amount of loan:',style=style),\n",
    "      oldBalance = widget.FloatText(value = 0.0,description='Original Balance Before:', style=style),\n",
    "      newBalance = widget.FloatText(value = 0.0,description='Original Balance After:', style=style),\n",
    "      oldBalanceDest = widget.FloatText(value = 0.0, description='Destination Balance Before:', style=style),\n",
    "      newBalanceDest = widget.FloatText(value = 0.0,description='Destination Balance After:', style=style)\n",
    "      )\n",
    "display(dis)"
   ]
  },
  {
   "cell_type": "code",
   "execution_count": 7,
   "id": "6caef439",
   "metadata": {},
   "outputs": [],
   "source": [
    "!pip freeze > requirements.txt"
   ]
  },
  {
   "cell_type": "code",
   "execution_count": null,
   "id": "4203516a",
   "metadata": {},
   "outputs": [],
   "source": []
  }
 ],
 "metadata": {
  "kernelspec": {
   "display_name": "Python 3 (ipykernel)",
   "language": "python",
   "name": "python3"
  },
  "language_info": {
   "codemirror_mode": {
    "name": "ipython",
    "version": 3
   },
   "file_extension": ".py",
   "mimetype": "text/x-python",
   "name": "python",
   "nbconvert_exporter": "python",
   "pygments_lexer": "ipython3",
   "version": "3.9.12"
  }
 },
 "nbformat": 4,
 "nbformat_minor": 5
}
